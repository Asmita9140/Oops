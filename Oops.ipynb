{
  "nbformat": 4,
  "nbformat_minor": 0,
  "metadata": {
    "colab": {
      "provenance": []
    },
    "kernelspec": {
      "name": "python3",
      "display_name": "Python 3"
    },
    "language_info": {
      "name": "python"
    }
  },
  "cells": [
    {
      "cell_type": "code",
      "source": [
        "#1. What is Object-Oriented Programming (OOP)?\n",
        "\n",
        "Object-Oriented Programming or OOPs refers to languages that use objects in programming. Object-oriented programming aims to implement real-world\n",
        "entities like inheritance, hiding, polymorphism, etc in programming. The main aim of OOP is to bind together the data and the functions that operate\n",
        "on them so that no other part of the code can access this data except that function.\n",
        "\n",
        "Key Principles of OOP:\n",
        "Encapsulation – Wrapping data and methods into a single unit (object) and restricting direct access to some details.\n",
        "\n",
        "Abstraction – Hiding complex implementation details and showing only the necessary features.\n",
        "\n",
        "Inheritance – Allowing a class (child) to inherit properties and methods from another class (parent).\n",
        "\n",
        "Polymorphism – Enabling objects to be treated as instances of their parent class while exhibiting different behaviors."
      ],
      "metadata": {
        "id": "STCn8jvJekFZ"
      },
      "execution_count": null,
      "outputs": []
    },
    {
      "cell_type": "code",
      "source": [
        "#2. What is a class in OOP?\n",
        "\n",
        "A class is a user-defined data type. It consists of data members and member functions, which can be accessed and used by creating an instance of that\n",
        "class. It represents the set of properties or methods that are common to all objects of one type. A class is like a blueprint for an object.\n",
        "\n",
        "For Example: Consider the Class of Cars. There may be many cars with different names and brands but all of them will share some common properties\n",
        "like all of them will have 4 wheels, Speed Limit, Mileage range, etc. So here, Car is the class, and wheels, speed limits, mileage are their\n",
        "properties."
      ],
      "metadata": {
        "id": "T99tHg1yeres"
      },
      "execution_count": null,
      "outputs": []
    },
    {
      "cell_type": "code",
      "source": [
        "#3. What is an object in OOP?\n",
        "\n",
        "It is a basic unit of Object-Oriented Programming and represents the real-life entities. An Object is an instance of a Class. When a class is defined,\n",
        "no memory is allocated but when it is instantiated (i.e. an object is created) memory is allocated. An object has an identity, state, and behavior.\n",
        "Each object contains data and code to manipulate the data. Objects can interact without having to know details of each other’s data or code, it is\n",
        "sufficient to know the type of message accepted and type of response returned by the objects.\n",
        "\n",
        "For example “Dog” is a real-life Object, which has some characteristics like color, Breed, Bark, Sleep, and Eats."
      ],
      "metadata": {
        "id": "kGb6BTxYfFwI"
      },
      "execution_count": null,
      "outputs": []
    },
    {
      "cell_type": "code",
      "source": [
        "#4. What is the difference between abstraction and encapsulation?\n",
        "\n",
        "Abstraction:\n",
        "Data abstraction is one of the most essential and important features of object-oriented programming. Data abstraction refers to providing only\n",
        "essential information about the data to the outside world, hiding the background details or implementation. Consider a real-life example of a man\n",
        "driving a car. The man only knows that pressing the accelerators will increase the speed of the car or applying brakes will stop the car, but he\n",
        "does not know about how on pressing the accelerator the speed is increasing, he does not know about the inner mechanism of the car or the implementation\n",
        "of the accelerator, brakes, etc in the car. This is what abstraction is.\n",
        "\n",
        "Encapsulation:\n",
        "Encapsulation is defined as the wrapping up of data under a single unit. It is the mechanism that binds together code and the data it manipulates.\n",
        "In Encapsulation, the variables or data of a class are hidden from any other class and can be accessed only through any member function of their\n",
        "class in which they are declared. As in encapsulation, the data in a class is hidden from other classes, so it is also known as data-hiding.\n",
        "Consider a real-life example of encapsulation, in a company, there are different sections like the accounts section, finance section, sales section,\n",
        "etc. The finance section handles all the financial transactions and keeps records of all the data related to finance. Similarly, the sales section\n",
        "handles all the sales-related activities and keeps records of all the sales. Now there may arise a situation when for some reason an official from\n",
        "the finance section needs all the data about sales in a particular month. In this case, he is not allowed to directly access the data of the sales\n",
        "section. He will first have to contact some other officer in the sales section and then request him to give the particular data. This is what\n",
        "encapsulation is. Here the data of the sales section and the employees that can manipulate them are wrapped under a single name “sales section”.\n"
      ],
      "metadata": {
        "id": "8HLPEUEXfcYU"
      },
      "execution_count": null,
      "outputs": []
    },
    {
      "cell_type": "code",
      "source": [
        "#5. What are dunder methods in Python?\n",
        "\n",
        "Dunder or magic methods in Python-\n",
        "Python Magic methods are the methods starting and ending with double underscores ‘__’. They are defined by built-in classes in Python and commonly\n",
        "used for operator overloading.\n",
        "\n",
        "They are also called Dunder methods, Dunder here means “Double Under (Underscores)”.\n",
        "Python Magic Methods\n",
        "Built in classes define many magic methods, dir() function can show you magic methods inherited by a class.\n"
      ],
      "metadata": {
        "id": "QhrZuvLVgj-e"
      },
      "execution_count": null,
      "outputs": []
    },
    {
      "cell_type": "code",
      "source": [
        "#6. Explain the concept of inheritance in OOP?\n",
        "\n",
        "Inheritance is a feature or a process in which, new classes are created from the existing classes. The new class created is called “derived class”\n",
        "or “child class” and the existing class is known as the “base class” or “parent class”. The derived class now is said to be inherited from the base\n",
        "class.\n",
        "When we say derived class inherits the base class, it means that the derived class inherits all the properties of the base class, without changing\n",
        "the properties of base class and may add new features to its own. These new features in the derived class will not affect the base class. The derived\n",
        "class is the specialized class for the base class.\n",
        "\n",
        "Sub Class: The class that inherits properties from another class is called Subclass or Derived Class.\n",
        "Super Class: The class whose properties are inherited by a subclass is called Base Class or Superclass."
      ],
      "metadata": {
        "id": "nk5Ga7Nth-hF"
      },
      "execution_count": null,
      "outputs": []
    },
    {
      "cell_type": "code",
      "source": [
        "#7. What is polymorphism in OOP?\n",
        "\n",
        "Polymorphism is a foundational concept in programming that allows entities like functions, methods or operators to behave differently based on the\n",
        "type of data they are handling. Derived from Greek, the term literally means “many forms”.\n",
        "\n",
        "Python’s dynamic typing and duck typing make it inherently polymorphic. Functions, operators and even built-in objects like loops exhibit polymorphic\n",
        "behavior.\n",
        "\n",
        "Example:\n",
        "\n",
        "print(len(\"Hello\"))  # String length\n",
        "print(len([1, 2, 3]))  # List length\n",
        "\n",
        "print(max(1, 3, 2))  # Maximum of integers\n",
        "print(max(\"a\", \"z\", \"m\"))  # Maximum in strings\n"
      ],
      "metadata": {
        "id": "ItCUamYhifO7"
      },
      "execution_count": null,
      "outputs": []
    },
    {
      "cell_type": "code",
      "source": [
        "#8. How is encapsulation achieved in Python?\n",
        "\n",
        "Encapsulation in Python is achieved through access modifiers and the use of classes and objects. It is one of the four fundamental principles of\n",
        "Object-Oriented Programming (OOP) and helps in restricting direct access to certain variables and methods to protect data from accidental\n",
        "modification.\n",
        "Python uses convention-based access control rather than strict enforcement like Java or C++. It provides three levels of access control:\n",
        "\n",
        "Public Members: Accessible from anywhere.\n",
        "Protected Members (Single underscore _var): Intended to be used within the class and its subclasses.\n",
        "Private Members (Double underscore __var): Cannot be accessed directly outside the class.\n",
        "\n",
        "Example-\n",
        "\n",
        "class Employee:\n",
        "    def __init__(self, name, salary):\n",
        "        self.__salary = salary  # Private variable\n",
        "\n",
        "    def get_salary(self):  # Getter\n",
        "        return self.__salary\n",
        "\n",
        "    def set_salary(self, new_salary):  # Setter with validation\n",
        "        if new_salary > 0:\n",
        "            self.__salary = new_salary\n",
        "        else:\n",
        "            print(\"Invalid salary!\")\n",
        "\n",
        "emp = Employee(\"Priya\", 50000)\n",
        "print(emp.get_salary())  # 50000\n",
        "emp.set_salary(60000)  # Update salary\n",
        "print(emp.get_salary())  # 60000\n"
      ],
      "metadata": {
        "id": "yCioXBovja6L"
      },
      "execution_count": null,
      "outputs": []
    },
    {
      "cell_type": "code",
      "source": [
        "#9. What is a constructor in Python?\n",
        "\n",
        "In Python, a constructor is a special method used to initialize objects when they are created. It is defined using the __init__ method inside a\n",
        "class. The constructor is automatically called when a new instance of the class is created.\n",
        "The constructor method is named __init__.\n",
        "It takes self as the first parameter, which represents the instance of the class.\n",
        "Additional parameters can be added to initialize instance variables.\n",
        "It is automatically executed when an object is instantiated.\n",
        "\n",
        "Example-\n",
        "\n",
        "class MyClass:\n",
        "    def __init__(self, name, age):  # Constructor\n",
        "        self.name = name\n",
        "        self.age = age\n",
        "\n",
        "# Creating an object of MyClass\n",
        "obj = MyClass(\"Priya\", 25)\n",
        "\n",
        "print(obj.name)  # Output: Priya\n",
        "print(obj.age)   # Output: 25\n"
      ],
      "metadata": {
        "id": "Dq9cjFRFNamb"
      },
      "execution_count": null,
      "outputs": []
    },
    {
      "cell_type": "code",
      "source": [
        "#10.  What are class and static methods in Python?\n",
        "\n",
        "In Python, class methods and static methods are two types of methods that behave differently from instance methods. They are used when you need to\n",
        "work at the class level rather than at the instance level.\n",
        "\n",
        "Class Methods (@classmethod)\n",
        "\n",
        "-A class method is bound to the class and not the instance.\n",
        "-It takes cls as the first parameter, which represents the class itself.\n",
        "-It can modify class variables but cannot access instance-specific data.\n",
        "\n",
        "When you need to modify class-level attributes or create factory methods.\n",
        "\n",
        "Example-\n",
        "class Employee:\n",
        "    company = \"XYZ Corp\"  # Class variable\n",
        "\n",
        "    def __init__(self, name):\n",
        "        self.name = name  # Instance variable\n",
        "\n",
        "    @classmethod\n",
        "    def change_company(cls, new_company):\n",
        "        cls.company = new_company  # Modifies the class variable\n",
        "\n",
        "# Usage\n",
        "print(Employee.company)  # Output: XYZ Corp\n",
        "Employee.change_company(\"ABC Ltd\")\n",
        "print(Employee.company)  # Output: ABC Ltd\n",
        "\n",
        "\n",
        "Static Methods (@staticmethod)\n",
        "\n",
        "-A static method does not receive self or cls as the first argument.\n",
        "-It behaves just like a regular function but is inside a class.\n",
        "-It cannot modify class or instance attributes.\n",
        "\n",
        "When you need a method that logically belongs to a class but does not require access to class or instance attributes.\n",
        "\n",
        "Example-\n",
        "class MathOperations:\n",
        "    @staticmethod\n",
        "    def add(a, b):\n",
        "        return a + b\n",
        "\n",
        "# Usage\n",
        "print(MathOperations.add(5, 3))  # Output: 8\n"
      ],
      "metadata": {
        "id": "l_1yz0hbOIKi"
      },
      "execution_count": null,
      "outputs": []
    },
    {
      "cell_type": "code",
      "source": [
        "#11. What is method overloading in Python?\n",
        "\n",
        "Method overloading is a concept in object-oriented programming where multiple methods have the same name but different parameters (number, type, or\n",
        "both). It allows a function or method to perform different tasks depending on the arguments passed.\n",
        "However, Python does not support method overloading in the same way as languages like Java or C++. Instead, Python allows handling multiple arguments\n",
        "using default arguments, *args, and **kwargs.\n",
        "Since Python does not support method overloading explicitly, we can achieve similar behavior in the following ways:\n",
        "\n",
        "1. Using Default Arguments\n",
        "We can define a single method with default values to mimic method overloading.\n",
        "2. Using *args (Variable-length Arguments)\n",
        "We can use *args to accept multiple arguments dynamically.\n",
        "3. Using @singledispatch (Function Overloading)\n",
        "The functools.singledispatch decorator allows function overloading based on the argument type.\n",
        "\n",
        "Python does not support method overloading directly.\n",
        "We can achieve similar functionality using default arguments, *args, **kwargs, or @singledispatch.\n",
        "The best approach depends on the use case and required flexibility.\n"
      ],
      "metadata": {
        "id": "p14i3VpGPRL9"
      },
      "execution_count": null,
      "outputs": []
    },
    {
      "cell_type": "code",
      "source": [
        "#12. What is method overriding in OOP?\n",
        "\n",
        "Method overriding is a concept in Object-Oriented Programming (OOP) where a subclass provides a specific implementation of a method that is already\n",
        "defined in its superclass. The overridden method in the subclass must have the same name, return type, and parameters as the method in the superclass.\n",
        "\n",
        "Same Method Signature – The method in the subclass must have the same name, return type, and parameters as the method in the parent class.\n",
        "Inheritance – Overriding can only occur when there is an inheritance relationship (i.e., a subclass extends a superclass).\n",
        "Access Modifier – The overridden method in the subclass should have the same or a broader access modifier than the superclass method.\n",
        "Usage of super Keyword – The super keyword can be used to call the superclass method inside the overridden method.\n",
        "Runtime Polymorphism – Method overriding enables dynamic method dispatch (runtime polymorphism), meaning the method that gets executed is determined\n",
        "at runtime based on the object type.\n",
        "Example-\n",
        "class Animal:\n",
        "    def make_sound(self):\n",
        "        print(\"Animal makes a sound\")\n",
        "\n",
        "class Dog(Animal):\n",
        "    def make_sound(self):  # Overriding the method\n",
        "        print(\"Dog barks\")\n",
        "\n",
        "# Creating an instance of Dog\n",
        "my_pet = Dog()\n",
        "my_pet.make_sound()  # Calls overridden method in Dog class\n",
        "\n",
        "#output\n",
        "Dog barks\n"
      ],
      "metadata": {
        "id": "VaN1YyixSzk9"
      },
      "execution_count": null,
      "outputs": []
    },
    {
      "cell_type": "code",
      "source": [
        "#13. What is a property decorator in Python?\n",
        "\n",
        "In Python, a property decorator (@property) is used to define a method as a property, allowing it to be accessed like an attribute while still having\n",
        "the flexibility of a method. This helps in implementing encapsulation and getter/setter behavior in an elegant way.\n",
        "Use of @property\n",
        "It allows controlled access to private attributes.\n",
        "It lets you define a method that can be accessed like an attribute.\n",
        "It enables computed properties (values that are calculated dynamically when accessed).\n",
        "Example-\n",
        "class Circle:\n",
        "    def __init__(self, radius):\n",
        "        self.__radius = radius\n",
        "\n",
        "    @property\n",
        "    def radius(self):\n",
        "        return self.__radius\n",
        "    @radius.setter\n",
        "    def radius(self, value):\n",
        "        if value <= 0:\n",
        "            raise ValueError(\"Radius is not positive\")\n",
        "        self.__radius = value\n",
        "    @radius.deleter\n",
        "    def radius(self):\n",
        "        del self.__radius\n",
        "    def area(self):\n",
        "        return 3.14*self.__radius*self.__radius\n",
        "\n",
        "c = Circle(5)\n",
        "c.area()#output will be 78.5"
      ],
      "metadata": {
        "id": "PdBXBCeYUJH-"
      },
      "execution_count": null,
      "outputs": []
    },
    {
      "cell_type": "code",
      "source": [
        "#14. Why is polymorphism important in OOP?\n",
        "\n",
        "Polymorphism is important in Object-Oriented Programming (OOP) because it enhances code flexibility, reusability, and maintainability. Here’s why it\n",
        "matters:\n",
        "\n",
        "Code Reusability – Polymorphism allows the same method or function to work with different types of objects, reducing the need for redundant code.\n",
        "Scalability – When new classes are added, existing code can remain unchanged because polymorphism ensures that new objects can be used in the same\n",
        "way as old ones.\n",
        "Maintainability – With polymorphism, code is easier to maintain since changes in a superclass automatically apply to its subclasses.\n",
        "Abstraction & Encapsulation – It allows developers to work with high-level interfaces rather than specific implementations, improving code organization.\n",
        "Dynamic Behavior (Runtime Polymorphism) – Methods can be overridden in derived classes, allowing for more dynamic and specialized behavior at runtime.\n"
      ],
      "metadata": {
        "id": "Q3rTP1F7zHgy"
      },
      "execution_count": null,
      "outputs": []
    },
    {
      "cell_type": "code",
      "source": [
        "#15. What is an abstract class in Python?\n",
        "\n",
        "An abstract class in Python is a class that cannot be instantiated directly and is meant to be subclassed. It serves as a blueprint for other classes\n",
        "and may contain one or more abstract methods—methods that must be implemented in any subclass.\n",
        "\n",
        "Key Points:\n",
        "Defined using the ABC (Abstract Base Class) module.\n",
        "Contains abstract methods (methods without implementation).\n",
        "Enforces a structure in subclasses.\n",
        "\n",
        "Why we use Abstract Classes?\n",
        "Encapsulation of common behavior: Forces subclasses to implement certain methods.\n",
        "Code consistency: Ensures all subclasses follow a specific interface.\n",
        "Prevents instantiation of incomplete classes.\n"
      ],
      "metadata": {
        "id": "aLBo3W6Tf9DZ"
      },
      "execution_count": null,
      "outputs": []
    },
    {
      "cell_type": "code",
      "source": [
        "#16. What are the advantages of OOP?\n",
        "\n",
        "Object-Oriented Programming (OOP) has several advantages that make it a popular programming paradigm. Here are some key benefits:\n",
        "\n",
        "Encapsulation – Bundles data and methods together into objects, reducing complexity and increasing security by restricting direct access to data.\n",
        "Reusability – Promotes code reuse through inheritance, allowing new classes to derive properties and behaviors from existing ones.\n",
        "Modularity – Divides a program into smaller, manageable objects, making it easier to maintain and debug.\n",
        "Abstraction – Hides unnecessary details and exposes only essential functionalities, improving code readability and reducing complexity.\n",
        "Polymorphism – Allows a single interface to be used for different types, enabling flexibility and scalability.\n",
        "Scalability – OOP makes it easier to extend applications by adding new classes and features without modifying existing code significantly.\n",
        "Better Maintainability – Since OOP promotes organized and modular code, it is easier to update and modify software without affecting the entire\n",
        "system.\n",
        "Security – Data hiding and encapsulation protect data from unintended access and modification.\n"
      ],
      "metadata": {
        "id": "5GRWZau9g9QI"
      },
      "execution_count": null,
      "outputs": []
    },
    {
      "cell_type": "code",
      "source": [
        "#17. What is the difference between a class variable and an instance variable?\n",
        "\n",
        "The main difference between class variables and instance variables in object-oriented programming (especially in Python) is how they are shared and\n",
        "accessed:\n",
        "\n",
        "Class Variable\n",
        "\n",
        "Defined at the class level and shared across all instances of the class.\n",
        "Same for every instance unless explicitly changed at the instance level.\n",
        "Defined outside any instance methods, typically at the top of the class.\n",
        "Modifying a class variable affects all instances, unless it’s overridden in an instance.\n",
        "Shared across all instances.\n",
        "Affects all instances (if changed at the class level).\n",
        "Accessed using ClassName.variable or self.variable.\n",
        "\n",
        "Instance Variable\n",
        "\n",
        "Defined inside a constructor (__init__) or any method using self.\n",
        "Specific to each instance—each object gets its own copy.\n",
        "Modifying an instance variable does not affect other instances.\n",
        "Unique to each instance.\n",
        "Affects only that specific instance.\n",
        "Accessed using self.variable.\n"
      ],
      "metadata": {
        "id": "CKr72XlphTOl"
      },
      "execution_count": null,
      "outputs": []
    },
    {
      "cell_type": "code",
      "source": [
        "#18. What is multiple inheritance in Python?\n",
        "\n",
        "Multiple inheritance is a feature in Python where a class can inherit from more than one parent class. This allows a child class to inherit attributes\n",
        "and methods from multiple base classes.\n",
        "Syntax:\n",
        "class Parent1:\n",
        "    def method1(self):\n",
        "        print(\"Method from Parent1\")\n",
        "\n",
        "class Parent2:\n",
        "    def method2(self):\n",
        "        print(\"Method from Parent2\")\n",
        "\n",
        "class Child(Parent1, Parent2):  # Inheriting from both Parent1 and Parent2\n",
        "    def method3(self):\n",
        "        print(\"Method from Child\")\n",
        "\n",
        "# Creating an object of Child class\n",
        "obj = Child()\n",
        "obj.method1()  # Accessing method from Parent1\n",
        "obj.method2()  # Accessing method from Parent2\n",
        "obj.method3()  # Accessing method from Child\n",
        "\n",
        "Advantages of Multiple Inheritance:\n",
        "\n",
        "Code Reusability – Avoids duplication by allowing a class to use methods and attributes from multiple classes.\n",
        "Enhanced Functionality – A class can have functionalities from different base classes.\n",
        "\n",
        "Challenges of Multiple Inheritance:\n",
        "\n",
        "Diamond Problem – If multiple parent classes inherit from a common ancestor, and a child class inherits from them, ambiguity may arise in method\n",
        "resolution.\n",
        "Method Resolution Order (MRO) – Python uses the C3 Linearization (MRO algorithm) to determine the order in which methods are inherited.\n"
      ],
      "metadata": {
        "id": "6QFiEaH0ivJR"
      },
      "execution_count": null,
      "outputs": []
    },
    {
      "cell_type": "code",
      "source": [
        "#19. Explain the purpose of ‘’__str__’ and ‘__repr__’ ‘ methods in Python?\n",
        "\n",
        "In Python, __str__ and __repr__ are special methods used to define how an object is represented as a string. They help in making objects more\n",
        "readable and informative.\n",
        "\n",
        "__str__ (String Representation)\n",
        "\n",
        "The __str__ method is used to define a user-friendly string representation of an object.\n",
        "It is meant to be readable and provide a human-friendly description of the object.\n",
        "This method is called when you use str(obj) or print(obj).\n",
        "It is User-friendly representation.\n",
        "Intended Audience is end user.\n",
        "\n",
        "__repr__ (Official Representation)\n",
        "\n",
        "The __repr__ method is used to define an official string representation of an object.\n",
        "It is meant for developers and debugging.\n",
        "The output of __repr__ should ideally be something that can recreate the object when used in Python's eval() function.\n",
        "This method is called when you use repr(obj) or when an object is displayed in an interactive shell.\n",
        "It is Developer-friendly representation.\n",
        "Intended Audience is developers.\n",
        "\n",
        "Best Practice:\n",
        "If __repr__ is well-defined, you may not need __str__, as print(obj) will fallback to __repr__ if __str__ is not defined.\n",
        "Use __str__ when you want a clean, user-friendly representation.\n",
        "Use __repr__ when you want a precise, debug-friendly representation.\n"
      ],
      "metadata": {
        "id": "kVqveKRnju20"
      },
      "execution_count": null,
      "outputs": []
    },
    {
      "cell_type": "code",
      "source": [
        "#20. What is the significance of the ‘super()’ function in Python?\n",
        "\n",
        "The super() function in Python is used to call methods from a parent (or superclass) in a child (or subclass) without explicitly naming the parent\n",
        "class. It is commonly used in object-oriented programming for inheritance.\n",
        "\n",
        "Significance of super() in Python:\n",
        "\n",
        "Access Parent Class Methods: It allows a subclass to invoke methods from its superclass without directly referring to the superclass by name.\n",
        "Avoid Redundancy: Helps in avoiding code duplication when overriding methods in subclasses.\n",
        "Supports Multiple Inheritance: super() works with multiple inheritance by following the Method Resolution Order (MRO), ensuring that methods are\n",
        "called in the correct order without duplication.\n",
        "Ensures Maintainability: If the superclass name changes, you don’t need to update references in subclasses since super() automatically refers to\n",
        "the right superclass.\n",
        "\n",
        "Example-\n",
        "class Parent:\n",
        "    def show(self):\n",
        "        print(\"This is the Parent class\")\n",
        "\n",
        "class Child(Parent):\n",
        "    def show(self):\n",
        "        super().show()  # Calling Parent's method\n",
        "        print(\"This is the Child class\")\n",
        "\n",
        "c = Child()\n",
        "c.show()\n",
        "\n",
        "#This is the Parent class\n",
        "#This is the Child class\n"
      ],
      "metadata": {
        "id": "HDBfDTnclTbi"
      },
      "execution_count": null,
      "outputs": []
    },
    {
      "cell_type": "code",
      "source": [
        "#21. What is the significance of the __del__ method in Python?\n",
        "\n",
        "The __del__ method in Python is a special method known as a destructor. It is called when an object is about to be destroyed (i.e., when there are\n",
        "no more references to it). This allows for cleanup operations before the object is removed from memory.\n",
        "\n",
        "Significance of __del__\n",
        "\n",
        "Resource Cleanup – Used to release resources like file handles, network connections, or database connections when an object is no longer needed.\n",
        "Garbage Collection Hook – Although Python has automatic garbage collection, __del__ can provide custom cleanup behavior.\n",
        "Debugging and Logging – Helps in tracking when an object is deleted.\n",
        "\n",
        "Example-\n",
        "class Example:\n",
        "    def __init__(self, name):\n",
        "        self.name = name\n",
        "        print(f\"Object {self.name} created.\")\n",
        "\n",
        "    def __del__(self):\n",
        "        print(f\"Object {self.name} is being destroyed.\")\n",
        "\n",
        "obj = Example(\"Test\")\n",
        "del obj  # Manually deleting the object\n"
      ],
      "metadata": {
        "id": "SthiAl_GmWJN"
      },
      "execution_count": null,
      "outputs": []
    },
    {
      "cell_type": "code",
      "source": [
        "#22.  What is the difference between @staticmethod and @classmethod in Python?\n",
        "\n",
        "In Python, @staticmethod and @classmethod are decorators used to define methods inside a class that behave differently from regular instance methods. Here's how they differ:\n",
        "\n",
        "1. @staticmethod\n",
        "\n",
        "A static method does not take the class (cls) or instance (self) as its first argument.\n",
        "It behaves just like a regular function but is logically grouped inside the class.\n",
        "It cannot modify or access class/instance attributes.\n",
        "Used when a method does not need access to the class or instance but still belongs to the class logically.\n",
        "\n",
        "2. @classmethod\n",
        "\n",
        "A class method takes cls (the class itself) as its first argument.\n",
        "It can access and modify class attributes but not instance attributes.\n",
        "Used when you need to work with class-level data.\n"
      ],
      "metadata": {
        "id": "Ek0SvKsrm_vQ"
      },
      "execution_count": null,
      "outputs": []
    },
    {
      "cell_type": "code",
      "source": [
        "#23.  How does polymorphism work in Python with inheritance?\n",
        "\n",
        "Polymorphism in Python allows objects of different classes to be treated as objects of a common superclass, enabling code reusability and flexibility.\n",
        "It works especially well with inheritance, where a subclass can override or extend the behavior of a method from its superclass.\n",
        "\n",
        "How Polymorphism Works in Python with Inheritance\n",
        "\n",
        "Polymorphism allows a method to have the same name across different classes but exhibit different behaviors depending on the object that calls it.\n",
        "\n",
        "Example 1: Method Overriding\n",
        "When a subclass provides a specific implementation of a method already defined in its parent class.\n",
        "class Animal:\n",
        "    def speak(self):\n",
        "        return \"Animal makes a sound\"\n",
        "\n",
        "class Dog(Animal):\n",
        "    def speak(self):  # Overriding the parent method\n",
        "        return \"Bark\"\n",
        "\n",
        "class Cat(Animal):\n",
        "    def speak(self):  # Overriding the parent method\n",
        "        return \"Meow\"\n",
        "\n",
        "# Using polymorphism\n",
        "animals = [Dog(), Cat(), Animal()]\n",
        "\n",
        "for animal in animals:\n",
        "    print(animal.speak())  # Calls the overridden method in each subclass\n",
        "\n",
        "#Bark,Meow,Animal makes a sound\n",
        "\n",
        "Here, despite calling speak() on different objects, each object responds with its own version of the method.\n",
        "\n",
        "Example 2: Polymorphism with Functions\n",
        "A function can take different types of objects and call the same method without knowing their specific class.\n",
        "\n",
        "def make_sound(animal):\n",
        "    print(animal.speak())\n",
        "\n",
        "dog = Dog()\n",
        "cat = Cat()\n",
        "\n",
        "make_sound(dog)  # Bark\n",
        "make_sound(cat)  # Meow\n",
        "Here, the function make_sound() can accept any object that has a speak() method, demonstrating polymorphism.\n",
        "\n",
        "Example 3: Polymorphism with Abstract Classes\n",
        "Using the ABC module (Abstract Base Class) to enforce method implementation in subclasses.\n",
        "\n",
        "from abc import ABC, abstractmethod\n",
        "\n",
        "class Animal(ABC):\n",
        "    @abstractmethod\n",
        "    def speak(self):\n",
        "        pass  # Force subclasses to define this method\n",
        "\n",
        "class Dog(Animal):\n",
        "    def speak(self):\n",
        "        return \"Bark\"\n",
        "\n",
        "class Cat(Animal):\n",
        "    def speak(self):\n",
        "        return \"Meow\"\n",
        "\n",
        "dog = Dog()\n",
        "cat = Cat()\n",
        "\n",
        "print(dog.speak())  # Bark\n",
        "print(cat.speak())  # Meow\n",
        "\n",
        "Here, Animal is an abstract class that enforces every subclass to implement the speak() method.\n"
      ],
      "metadata": {
        "id": "M_hQKjU8nrxl"
      },
      "execution_count": null,
      "outputs": []
    },
    {
      "cell_type": "code",
      "source": [
        "#24. What is method chaining in Python OOP?\n",
        "\n",
        "Method chaining is a powerful technique in Python programming that allows us to call multiple methods on an object in a single, continuous line of\n",
        "code. This approach makes the code cleaner, more readable, and often easier to maintain.\n",
        "Method chaining refers to calling multiple methods sequentially on the same object in a single expression. Each method call returns an object, often\n",
        "the same object (modified or not), allowing the subsequent method to operate on that object.\n",
        "In method chaining, the result of one method call becomes the context for the next method.\n",
        "\n",
        "Example-\n",
        "text = \" i love pwskills! \"\n",
        "result = text.strip().title().split()\n",
        "print(result)\n",
        "\n",
        "#['I', 'Love', 'pwskills!']\n"
      ],
      "metadata": {
        "id": "Yov80mn1pvQl"
      },
      "execution_count": null,
      "outputs": []
    },
    {
      "cell_type": "code",
      "source": [
        "#25.  What is the purpose of the __call__ method in Python?\n",
        "\n",
        "Python has a set of built-in methods and __call__is one of them. The __call__method enables Python programmers to write classes where the instances\n",
        "behave like functions and can be called like a function. When the instance is called as a function; if this method is defined,x(arg1, arg2, ...) is\n",
        "a shorthand for x.__call__(arg1, arg2, ...).\n",
        "object() is shorthand for object.__call__()\n",
        "Example-\n",
        "class Example:\n",
        "    def __init__(self):\n",
        "        print(\"Instance Created\")\n",
        "\n",
        "    # Defining __call__ method\n",
        "    def __call__(self):\n",
        "        print(\"Instance is called via special method\")\n",
        "\n",
        "# Instance created\n",
        "e = Example()\n",
        "\n",
        "# __call__ method will be called\n",
        "e()\n",
        "\n",
        "#Instance Created\n",
        "#Instance is called via special method\n"
      ],
      "metadata": {
        "id": "fcAxWiTmrWtX"
      },
      "execution_count": null,
      "outputs": []
    },
    {
      "cell_type": "markdown",
      "source": [
        "**Partical** **Question**"
      ],
      "metadata": {
        "id": "G8bCjvdItAcD"
      }
    },
    {
      "cell_type": "code",
      "source": [
        "#1. Create a parent class Animal with a method speak() that prints a generic message. Create a child class Dog that overrides the speak() method to print \"Bark!\".\n",
        "\n",
        "class Animal:\n",
        "    def sound(self):\n",
        "        print(\"Animal Sound\")\n",
        "class Dog(Animal):\n",
        "    def sound(self):\n",
        "        print(\"Bark!\")\n",
        "\n",
        "anm = Animal()\n",
        "anm.sound() #Animal class\n",
        "\n",
        "Dog = Dog()\n",
        "Dog.sound() #dog class\n"
      ],
      "metadata": {
        "colab": {
          "base_uri": "https://localhost:8080/"
        },
        "id": "2T05C-s_Aw4K",
        "outputId": "b35547a4-3b33-476b-8400-921fdde99dee"
      },
      "execution_count": null,
      "outputs": [
        {
          "output_type": "stream",
          "name": "stdout",
          "text": [
            "Animal Sound\n",
            "Bark!\n"
          ]
        }
      ]
    },
    {
      "cell_type": "code",
      "source": [
        "#2. Write a program to create an abstract class Shape with a method area(). Derive classes Circle and Rectangle from it and implement the area() method in both?\n",
        "\n",
        "from abc import ABC, abstractmethod\n",
        "import math\n",
        "\n",
        "# Abstract class\n",
        "class Shape(ABC):\n",
        "    @abstractmethod\n",
        "    def area(self):\n",
        "        pass\n",
        "\n",
        "# Circle class inheriting from Shape\n",
        "class Circle(Shape):\n",
        "    def __init__(self, radius):\n",
        "        self.radius = radius\n",
        "\n",
        "    def area(self):\n",
        "        return math.pi * self.radius ** 2\n",
        "\n",
        "# Rectangle class inheriting from Shape\n",
        "class Rectangle(Shape):\n",
        "    def __init__(self, length, width):\n",
        "        self.length = length\n",
        "        self.width = width\n",
        "\n",
        "    def area(self):\n",
        "        return self.length * self.width\n",
        "\n",
        "# Example usage\n",
        "circle = Circle(5)\n",
        "rectangle = Rectangle(4, 6)\n",
        "\n",
        "print(\"Area of Circle:\", circle.area())\n",
        "print(\"Area of Rectangle:\", rectangle.area())\n"
      ],
      "metadata": {
        "colab": {
          "base_uri": "https://localhost:8080/"
        },
        "id": "BjoLGIKHrcwx",
        "outputId": "fe545ea3-95dc-4b8c-9437-26d8be46e2a0"
      },
      "execution_count": null,
      "outputs": [
        {
          "output_type": "stream",
          "name": "stdout",
          "text": [
            "Area of Circle: 78.53981633974483\n",
            "Area of Rectangle: 24\n"
          ]
        }
      ]
    },
    {
      "cell_type": "code",
      "source": [
        "#3. Implement a multi-level inheritance scenario where a class Vehicle has an attribute type. Derive a class Car and further derive a class ElectricCar that adds a battery attribute.\n",
        "\n",
        "# Base class\n",
        "class Vehicle:\n",
        "    def __init__(self, vehicle_type):\n",
        "        self.type = vehicle_type\n",
        "\n",
        "    def display_type(self):\n",
        "        print(f\"Vehicle Type: {self.type}\")\n",
        "\n",
        "# Derived class from Vehicle\n",
        "class Car(Vehicle):\n",
        "    def __init__(self, vehicle_type, brand):\n",
        "        super().__init__(vehicle_type)\n",
        "        self.brand = brand\n",
        "\n",
        "    def display_brand(self):\n",
        "        print(f\"Car Brand: {self.brand}\")\n",
        "\n",
        "# Further derived class from Car\n",
        "class ElectricCar(Car):\n",
        "    def __init__(self, vehicle_type, brand, battery_capacity):\n",
        "        super().__init__(vehicle_type, brand)\n",
        "        self.battery = battery_capacity\n",
        "\n",
        "    def display_details(self):\n",
        "        self.display_type()\n",
        "        self.display_brand()\n",
        "        print(f\"Battery Capacity: {self.battery} kWh\")\n",
        "\n",
        "# Creating an object of ElectricCar\n",
        "my_tesla = ElectricCar(\"Four Wheeler\", \"Tesla\", 75)\n",
        "\n",
        "# Display all details\n",
        "my_tesla.display_details()\n"
      ],
      "metadata": {
        "colab": {
          "base_uri": "https://localhost:8080/"
        },
        "id": "c-Xd3WxwSDr-",
        "outputId": "c4edf4bc-e536-4d8d-e45c-0ca033b5a2c1"
      },
      "execution_count": null,
      "outputs": [
        {
          "output_type": "stream",
          "name": "stdout",
          "text": [
            "Vehicle Type: Four Wheeler\n",
            "Car Brand: Tesla\n",
            "Battery Capacity: 75 kWh\n"
          ]
        }
      ]
    },
    {
      "cell_type": "code",
      "source": [
        "#4.  Demonstrate polymorphism by creating a base class Bird with a method fly(). Create two derived classes Sparrow and Penguin that override the fly() method.\n",
        "\n",
        "class Bird:\n",
        "    def fly(self):\n",
        "        print(\"Birds Can Fly\")\n",
        "\n",
        "class Sparrow(Bird):\n",
        "    def fly(self):\n",
        "        print(\"Sparrows Can Fly\")\n",
        "\n",
        "class Pengiun(Bird):\n",
        "    def fly(self):\n",
        "        print(\"Pengiums Can't Fly\")\n",
        "\n",
        "def flying_test(bird):\n",
        "    bird.fly()\n",
        "\n",
        "sparrow = Sparrow()\n",
        "pengiun = Pengiun()\n",
        "\n",
        "flying_test(sparrow)\n",
        "flying_test(pengiun)"
      ],
      "metadata": {
        "colab": {
          "base_uri": "https://localhost:8080/"
        },
        "id": "X6lgNJgySe6M",
        "outputId": "973fdea8-41aa-4074-d42b-b1a605496eae"
      },
      "execution_count": null,
      "outputs": [
        {
          "output_type": "stream",
          "name": "stdout",
          "text": [
            "Sparrows Can Fly\n",
            "Pengiums Can't Fly\n"
          ]
        }
      ]
    },
    {
      "cell_type": "code",
      "source": [
        "#5. Write a program to demonstrate encapsulation by creating a class BankAccount with private attributes balance and methods to deposit, withdraw, and check balance.\n",
        "\n",
        "class BankAccount:\n",
        "    def __init__(self, initial_balance=0):\n",
        "        self.__balance = initial_balance\n",
        "\n",
        "    # deposit method\n",
        "    def deposit(self, amount):\n",
        "        if amount > 0:\n",
        "            self.__balance += amount\n",
        "        else:\n",
        "            print(\"Invalid deposit amount\")\n",
        "\n",
        "    # withdraw method\n",
        "    def withdraw(self, amount):\n",
        "        if 0 < amount <= self.__balance:\n",
        "            self.__balance -= amount\n",
        "            print(f\"Withdrew ₹{amount}\")\n",
        "        else:\n",
        "            print(\"Insufficient funds\")\n",
        "\n",
        "    # check balance method\n",
        "    def check_balance(self):\n",
        "        print(f\"Current Balance: ₹{self.__balance}\")\n",
        "\n",
        "\n",
        "# Usage\n",
        "account = BankAccount(1000)\n",
        "account.check_balance()     # ₹1000\n",
        "account.deposit(500)        # +₹500\n",
        "account.withdraw(300)       # -₹300\n",
        "account.check_balance()     # ₹1200"
      ],
      "metadata": {
        "colab": {
          "base_uri": "https://localhost:8080/"
        },
        "id": "ot3JP0aIC2gU",
        "outputId": "fae50ba0-690a-408f-84a6-96e0aface194"
      },
      "execution_count": null,
      "outputs": [
        {
          "output_type": "stream",
          "name": "stdout",
          "text": [
            "Current Balance: ₹1000\n",
            "Withdrew ₹300\n",
            "Current Balance: ₹1200\n"
          ]
        }
      ]
    },
    {
      "cell_type": "code",
      "source": [
        "#6. Demonstrate runtime polymorphism using a method play() in a base class Instrument. Derive classes Guitar and Piano that implement their own version of play().\n",
        "\n",
        "class Instrument:\n",
        "    def play(self):\n",
        "        print(\"Instrument is playing\")\n",
        "\n",
        "class Guitar(Instrument):\n",
        "    def play(self):\n",
        "        print(\"Guitar is playing\")\n",
        "\n",
        "class Piano(Instrument):\n",
        "    def play(self):\n",
        "        print(\"Piano is playing\")\n",
        "\n",
        "def play_instrument(instrument):\n",
        "    instrument.play()\n",
        "\n",
        "guitar = Guitar()\n",
        "piano = Piano()\n",
        "\n",
        "play_instrument(guitar)\n",
        "play_instrument(piano)"
      ],
      "metadata": {
        "id": "DuJ2kFVwIIU1",
        "colab": {
          "base_uri": "https://localhost:8080/"
        },
        "outputId": "b315395a-8f09-41ce-94b9-c747739fb1e3"
      },
      "execution_count": null,
      "outputs": [
        {
          "output_type": "stream",
          "name": "stdout",
          "text": [
            "Guitar is playing\n",
            "Piano is playing\n"
          ]
        }
      ]
    },
    {
      "cell_type": "code",
      "source": [
        "#7. Create a class MathOperations with a class method add_numbers() to add two numbers and a static method subtract_numbers() to subtract two numbers.\n",
        "\n",
        "class MathOperations:\n",
        "    @classmethod\n",
        "    def add_numbers(cls, a, b):\n",
        "        return a + b\n",
        "\n",
        "    @staticmethod\n",
        "    def subtract_numbers(a, b):\n",
        "        return a - b\n",
        "\n",
        "print(MathOperations.add_numbers(2,6))\n",
        "print(MathOperations.subtract_numbers(9,3))"
      ],
      "metadata": {
        "colab": {
          "base_uri": "https://localhost:8080/"
        },
        "id": "hsiuYOVyVHBC",
        "outputId": "23f48390-ba28-4882-d39d-a04122640b2b"
      },
      "execution_count": null,
      "outputs": [
        {
          "output_type": "stream",
          "name": "stdout",
          "text": [
            "8\n",
            "6\n"
          ]
        }
      ]
    },
    {
      "cell_type": "code",
      "source": [
        "#8. Implement a class Person with a class method to count the total number of persons created.\n",
        "\n",
        "class Person:\n",
        "    count = 0\n",
        "\n",
        "    def __init__(self, name):\n",
        "        self.name = name\n",
        "        Person.count += 1\n",
        "\n",
        "    @classmethod\n",
        "    def get_count(cls):\n",
        "        return cls.count\n",
        "\n",
        "P1 = Person(\"Ram\")\n",
        "P2 = Person(\"Shubham\")\n",
        "P3 = Person(\"Krishna\")\n",
        "P4 = Person(\"Shreya\")\n",
        "\n",
        "print(Person.get_count())"
      ],
      "metadata": {
        "colab": {
          "base_uri": "https://localhost:8080/"
        },
        "id": "uh3J5zsYW7PX",
        "outputId": "2dce059f-59ef-42ef-ab76-5505ccf48e3a"
      },
      "execution_count": null,
      "outputs": [
        {
          "output_type": "stream",
          "name": "stdout",
          "text": [
            "4\n"
          ]
        }
      ]
    },
    {
      "cell_type": "code",
      "source": [
        "#9.  Write a class Fraction with attributes numerator and denominator. Override the str method to display the fraction as \"numerator/denominator\".\n",
        "\n",
        "class Fraction:\n",
        "     def __init__(self, numerator, denominator):\n",
        "        self.numerator = numerator\n",
        "        self.denominator = denominator\n",
        "\n",
        "     def __str__(self):\n",
        "        return f\"{self.numerator}/{self.denominator}\"\n",
        "\n",
        "f = Fraction(3,4)\n",
        "print(f)"
      ],
      "metadata": {
        "id": "tf-VgxUTZ7y1",
        "colab": {
          "base_uri": "https://localhost:8080/"
        },
        "outputId": "28b7da24-b906-4581-d6bd-c0131b3fcd07"
      },
      "execution_count": null,
      "outputs": [
        {
          "output_type": "stream",
          "name": "stdout",
          "text": [
            "3/4\n"
          ]
        }
      ]
    },
    {
      "cell_type": "code",
      "source": [
        "#10. Demonstrate operator overloading by creating a class Vector and overriding the add method to add two vectors?\n",
        "\n",
        "class vector:\n",
        "    def __init__(self, x, y):\n",
        "      self.x = x\n",
        "      self.y = y\n",
        "\n",
        "    def __add__(self, other):\n",
        "        if isinstance(other, vector):\n",
        "            return vector(self.x + other.x, self.y + other.y)\n",
        "        else:\n",
        "            raise ValueError(\"Can only add another vector\")\n",
        "\n",
        "    def __str__(self):\n",
        "        return f\"vector({self.x}, {self.y})\"\n",
        "\n",
        "v1 = vector(2, 3)\n",
        "v2 = vector(4, 5)\n",
        "v3 = v1 + v2\n",
        "\n",
        "print(v3)"
      ],
      "metadata": {
        "colab": {
          "base_uri": "https://localhost:8080/"
        },
        "id": "B-ccdxBMdV0P",
        "outputId": "cb6a1a47-ab89-4a5b-baa6-df2ea80001e7"
      },
      "execution_count": null,
      "outputs": [
        {
          "output_type": "stream",
          "name": "stdout",
          "text": [
            "vector(6, 8)\n"
          ]
        }
      ]
    },
    {
      "cell_type": "code",
      "source": [
        "#11. Create a class Person with attributes name and age. Add a method greet() that prints \"Hello, my name is {name} and I am {age} years old.\"\n",
        "\n",
        "class Person:\n",
        "    def __init__(self, name, age):\n",
        "       self.name = name\n",
        "       self.age = age\n",
        "\n",
        "    def greet(self):\n",
        "       print(f\"Hello, my name is {self.name} and I am {self.age} years old.\")\n",
        "\n",
        "\n",
        "p1 = Person(\"Priya\", 30)\n",
        "p1.greet()"
      ],
      "metadata": {
        "colab": {
          "base_uri": "https://localhost:8080/"
        },
        "id": "yYwsnbtbhg-1",
        "outputId": "79f58762-8acd-4ffb-8ae6-fe628f057306"
      },
      "execution_count": null,
      "outputs": [
        {
          "output_type": "stream",
          "name": "stdout",
          "text": [
            "Hello, my name is Priya and I am 30 years old.\n"
          ]
        }
      ]
    },
    {
      "cell_type": "code",
      "source": [
        "#12. Implement a class Student with attributes name and grades. Create a method average_grade() to compute the average of the grades.\n",
        "\n",
        "class student:\n",
        "    def __init__(self, name, grades):\n",
        "        self.name = name\n",
        "        self.grades = grades\n",
        "\n",
        "    def average_grade(self):\n",
        "         if not self.grades:\n",
        "           return 0\n",
        "         return sum(self.grades) / len(self.grades)\n",
        "\n",
        "student1 = student(\"Priya\", (85,90, 78, 92))\n",
        "print(f\"{student1.name}'s average_grade is: {student1.average_grade():.2f}\")"
      ],
      "metadata": {
        "id": "gs5_0ZPlkSsd",
        "colab": {
          "base_uri": "https://localhost:8080/"
        },
        "outputId": "c900a92f-2726-4d43-865f-2db2aeab9a95"
      },
      "execution_count": null,
      "outputs": [
        {
          "output_type": "stream",
          "name": "stdout",
          "text": [
            "Priya's average_grade is: 86.25\n"
          ]
        }
      ]
    },
    {
      "cell_type": "code",
      "source": [
        "#13. Create a class Rectangle with methods set_dimensions() to set the dimensions and area() to calculate the area.\n",
        "\n",
        "class Rectangle:\n",
        "    def __init__(self, length, width):\n",
        "        self.length = length\n",
        "        self.width = width\n",
        "\n",
        "    def dimensions(self, length, width):\n",
        "        self.length = length\n",
        "        self.width = width\n",
        "\n",
        "    def area(self):\n",
        "        return self.length * self.width\n",
        "\n",
        "r = Rectangle(4,5)\n",
        "print(r.area())"
      ],
      "metadata": {
        "id": "Uy0i2xNVnYDn",
        "colab": {
          "base_uri": "https://localhost:8080/"
        },
        "outputId": "3f236a34-f93f-4275-c2e9-6691101fa055"
      },
      "execution_count": null,
      "outputs": [
        {
          "output_type": "stream",
          "name": "stdout",
          "text": [
            "20\n"
          ]
        }
      ]
    },
    {
      "cell_type": "code",
      "source": [
        "#14. Create a class Employee with a method calculate_salary() that computes the salary based on hours worked and hourly rate. Create a derived class Manager that adds a bonus to the salary.\n",
        "\n",
        "class Employee:\n",
        "    def __init__(self, name, hours_worked, hourly_rate):\n",
        "        self.name = name\n",
        "        self.hours_worked = hours_worked\n",
        "        self.hourly_rate = hourly_rate\n",
        "\n",
        "    def calculate_salary(self):\n",
        "        salary = self.hours_worked * self.hourly_rate\n",
        "        return salary\n",
        "\n",
        "class Manager(Employee):\n",
        "    def __init__(self, name, hours_worked, hourly_rate, bonus):\n",
        "        super().__init__(name, hours_worked, hourly_rate)\n",
        "        self.bonus = bonus\n",
        "\n",
        "    def calculate_salary(self):\n",
        "        base_salary = super().calculate_salary()\n",
        "        total_salary = base_salary + self.bonus\n",
        "        return total_salary\n",
        "\n",
        "emp = Employee(\"John\", 40, 25)\n",
        "print(f\"Employee Salary: ${emp.calculate_salary()}\")\n",
        "\n",
        "mgr = Manager(\"Asmita\", 40, 30, 500)\n",
        "print(f\"Manager Salary (with bonus): ${mgr.calculate_salary()}\")\n"
      ],
      "metadata": {
        "colab": {
          "base_uri": "https://localhost:8080/"
        },
        "id": "AM1zeE9JrTd5",
        "outputId": "17c4007f-63eb-4f82-eedd-21ea493269e5"
      },
      "execution_count": null,
      "outputs": [
        {
          "output_type": "stream",
          "name": "stdout",
          "text": [
            "Employee Salary: $1000\n",
            "Manager Salary (with bonus): $1700\n"
          ]
        }
      ]
    },
    {
      "cell_type": "code",
      "source": [
        "#15. Create a class Product with attributes name, price, and quantity. Implement a method total_price() that calculates the total price of the product.\n",
        "\n",
        "class Product:\n",
        "    def __init__(self, name, price, quantity):\n",
        "        self.name = name\n",
        "        self.price = price\n",
        "        self.quantity = quantity\n",
        "\n",
        "    def total_price(self):\n",
        "        return self.price * self.quantity\n",
        "\n",
        "product = Product(\"Notebook\", 50, 3)\n",
        "print(f\"Total Price: ${product.total_price()}\")"
      ],
      "metadata": {
        "colab": {
          "base_uri": "https://localhost:8080/"
        },
        "id": "vbW-gRypOeg-",
        "outputId": "532df60e-4935-40f4-b4e1-a5bbc1da659d"
      },
      "execution_count": null,
      "outputs": [
        {
          "output_type": "stream",
          "name": "stdout",
          "text": [
            "Total Price: $150\n"
          ]
        }
      ]
    },
    {
      "cell_type": "code",
      "source": [
        "#16. Create a class Animal with an abstract method sound(). Create two derived classes Cow and Sheep that implement the sound() method.\n",
        "\n",
        "from abc import ABC, abstractmethod\n",
        "\n",
        "class Animal(ABC):\n",
        "\n",
        "    @abstractmethod\n",
        "    def sound(self):\n",
        "        pass\n",
        "\n",
        "# Derived class Cow\n",
        "class Cow(Animal):\n",
        "\n",
        "    def sound(self):\n",
        "        return \"Moo\"\n",
        "\n",
        "# Derived class Sheep\n",
        "class Sheep(Animal):\n",
        "\n",
        "    def sound(self):\n",
        "        return \"Baa\"\n",
        "\n",
        "cow = Cow()\n",
        "sheep = Sheep()\n",
        "\n",
        "print(\"Cow says:\", cow.sound())\n",
        "print(\"Sheep says:\", sheep.sound())\n"
      ],
      "metadata": {
        "id": "-rVcEqLMjXj5",
        "colab": {
          "base_uri": "https://localhost:8080/"
        },
        "outputId": "8b4985c0-818c-429d-815d-6332055262c9"
      },
      "execution_count": null,
      "outputs": [
        {
          "output_type": "stream",
          "name": "stdout",
          "text": [
            "Cow says: Moo\n",
            "Sheep says: Baa\n"
          ]
        }
      ]
    },
    {
      "cell_type": "code",
      "source": [
        "#17. Create a class Book with attributes title, author, and year_published. Add a method get_book_info() that returns a formatted string with the book's details.\n",
        "\n",
        "class Book:\n",
        "    def __init__(self, title, author, year_published):\n",
        "        self.title = title\n",
        "        self.author = author\n",
        "        self.year_published = year_published\n",
        "\n",
        "    def get_book_info(self):\n",
        "        return f\"'{self.title}' by {self.author}, published in {self.year_published}\"\n",
        "\n",
        "book1 = Book(\"To Kill a Mockingbird\", \"Harper Lee\", 1960)\n",
        "print(book1.get_book_info())\n"
      ],
      "metadata": {
        "colab": {
          "base_uri": "https://localhost:8080/"
        },
        "id": "pgSgEom_keE2",
        "outputId": "2d97db5e-2f50-46c5-974f-8b2a58a20e97"
      },
      "execution_count": null,
      "outputs": [
        {
          "output_type": "stream",
          "name": "stdout",
          "text": [
            "'To Kill a Mockingbird' by Harper Lee, published in 1960\n"
          ]
        }
      ]
    },
    {
      "cell_type": "code",
      "source": [
        "#18.  Create a class House with attributes address and price. Create a derived class Mansion that adds an attribute number_of_rooms.\n",
        "\n",
        "class House:\n",
        "    def __init__(self, address, price):\n",
        "        self.address = address\n",
        "        self.price = price\n",
        "\n",
        "    def display_info(self):\n",
        "        print(f\"Address: {self.address}\")\n",
        "        print(f\"Price: ${self.price}\")\n",
        "\n",
        "class Mansion(House):\n",
        "    def __init__(self, address, price, number_of_rooms):\n",
        "        super().__init__(address, price)\n",
        "        self.number_of_rooms = number_of_rooms\n",
        "\n",
        "    def display_info(self):\n",
        "        super().display_info()\n",
        "        print(f\"Number of Rooms: {self.number_of_rooms}\")\n",
        "\n",
        "m = Mansion(\"123 Luxury Lane\", 5000000, 12)\n",
        "m.display_info()\n"
      ],
      "metadata": {
        "colab": {
          "base_uri": "https://localhost:8080/"
        },
        "id": "LOGxel4SkzRD",
        "outputId": "7cf135db-b0be-4b83-ab2d-ac453f6953b6"
      },
      "execution_count": null,
      "outputs": [
        {
          "output_type": "stream",
          "name": "stdout",
          "text": [
            "Address: 123 Luxury Lane\n",
            "Price: $5000000\n",
            "Number of Rooms: 12\n"
          ]
        }
      ]
    }
  ]
}